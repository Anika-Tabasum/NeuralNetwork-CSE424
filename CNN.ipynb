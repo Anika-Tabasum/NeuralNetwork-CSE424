{
 "cells": [
  {
   "cell_type": "code",
   "execution_count": 31,
   "id": "233727e5-e8d2-41a4-a1c8-042c0538e679",
   "metadata": {},
   "outputs": [],
   "source": [
    "import torch\n",
    "import torch.nn as nn\n",
    "import torch.optim as optim\n",
    "from torchvision import datasets, transforms\n",
    "from torch.utils.data import DataLoader  # Fixed typo here\n",
    "from sklearn.metrics import confusion_matrix, classification_report\n",
    "\n"
   ]
  },
  {
   "cell_type": "code",
   "execution_count": null,
   "id": "88c6513d-7aae-4c62-b571-7199383e1b28",
   "metadata": {},
   "outputs": [],
   "source": [
    "class CustomCNN(nn.Module):\n",
    "    def __init__(self): # The __init__ method is used for initializing the attributes (variables) of the object when the object is created.\n",
    "        super(CustomCNN, self).__init__()\n",
    "        # Convolutional layers\n",
    "        self.conv1 = nn.Conv2d(1, 3, kernel_size=3, padding=1)  # Output: 28x28x3\n",
    "        self.conv2 = nn.Conv2d(3, 5, kernel_size=3, padding=1)  # Output: 28x28x5\n",
    "        self.pool1 = nn.MaxPool2d(2, 2)                        # Output: 14x14x5\n",
    "        self.conv3 = nn.Conv2d(5, 5, kernel_size=3, padding=1)  # Output: 14x14x5\n",
    "        self.conv4 = nn.Conv2d(5, 3, kernel_size=3, padding=1)  # Output: 14x14x3\n",
    "        self.pool2 = nn.MaxPool2d(2, 2)                        # Output: 7x7x3\n",
    "\n",
    "        # Fully connected layers\n",
    "        self.fc1 = nn.Linear(7 * 7 * 3, 147)                  # Output: 147x1\n",
    "        self.fc2 = nn.Linear(147, 10)                         # Output: 10x1\n",
    "\n",
    "        # Dropout layers\n",
    "        self.dropout1 = nn.Dropout(p=0.5)  # Dropout for convolutional layers\n",
    "        self.dropout2 = nn.Dropout(p=0.5)  # Dropout for fully connected layers\n",
    "\n",
    "        # Batch normalization for fully connected layers\n",
    "        self.batch_norm1 = nn.BatchNorm1d(147)\n",
    "        self.batch_norm2 = nn.BatchNorm1d(10)\n",
    "\n",
    "        # Xavier initialization\n",
    "        nn.init.xavier_uniform_(self.fc1.weight)\n",
    "        nn.init.xavier_uniform_(self.fc2.weight)\n",
    "\n",
    "        # Activation functions\n",
    "        self.sigmoid = nn.Sigmoid()\n",
    "        self.relu = nn.ReLU()\n",
    "\n",
    "    def forward(self, x):\n",
    "        x = self.relu(self.conv1(x))      # 28x28x3\n",
    "        x = self.relu(self.conv2(x))      # 28x28x5\n",
    "        x = self.pool1(x)                 # 14x14x5\n",
    "        x = self.relu(self.conv3(x))      # 14x14x5\n",
    "        x = self.relu(self.conv4(x))      # 14x14x3\n",
    "        x = self.pool2(x)                 # 7x7x3\n",
    "\n",
    "        x = self.dropout1(x)              # Dropout for convolutional output\n",
    "        x = x.view(-1, 7 * 7 * 3)         # Flatten to 147x1\n",
    "\n",
    "        # Fully connected layers with batch normalization, dropout, and sigmoid activation\n",
    "        x = self.batch_norm1(x)  # Batch normalization first\n",
    "        x = self.dropout2(x)\n",
    "        x = self.sigmoid(x)      # Dropout for fully connected layers\n",
    "        x = self.fc2(x)          # Fully connected layer\n",
    "        x = self.batch_norm2(x)  # Batch normalization\n",
    "            \n",
    "\n",
    "        return x\n"
   ]
  },
  {
   "cell_type": "code",
   "execution_count": 32,
   "id": "f0baeea2-5d75-4069-97d0-47b44d1965d4",
   "metadata": {},
   "outputs": [
    {
     "name": "stdout",
     "output_type": "stream",
     "text": [
      "Training dataset size: 48000\n",
      "Validation dataset size: 12000\n",
      "Test dataset size: 10000\n"
     ]
    }
   ],
   "source": [
    "from torch.utils.data import DataLoader, random_split\n",
    "\n",
    "# Define the transformation\n",
    "transform = transforms.Compose([\n",
    "    transforms.ToTensor(),\n",
    "    transforms.Normalize((0.5,), (0.5,))\n",
    "])\n",
    "\n",
    "# Load the Fashion MNIST dataset\n",
    "full_dataset = datasets.FashionMNIST(root='./data', train=True, download=True, transform=transform)\n",
    "\n",
    "# Calculate the sizes for training and validation sets\n",
    "train_size = int(0.8 * len(full_dataset))  # 80% for training\n",
    "val_size = len(full_dataset) - train_size  # Remaining 20% for validation\n",
    "\n",
    "# Split the dataset\n",
    "train_dataset, val_dataset = random_split(full_dataset, [train_size, val_size])\n",
    "\n",
    "# Create DataLoaders for train, validation, and test datasets\n",
    "train_loader = DataLoader(train_dataset, batch_size=1024, shuffle=True)\n",
    "val_loader = DataLoader(val_dataset, batch_size=1024, shuffle=False)\n",
    "\n",
    "# Load the test dataset\n",
    "test_dataset = datasets.FashionMNIST(root='./data', train=False, download=True, transform=transform)\n",
    "test_loader = DataLoader(test_dataset, batch_size=1024, shuffle=False)\n",
    "\n",
    "# Print dataset sizes\n",
    "print(f\"Training dataset size: {len(train_dataset)}\")\n",
    "print(f\"Validation dataset size: {len(val_dataset)}\")\n",
    "print(f\"Test dataset size: {len(test_dataset)}\")"
   ]
  },
  {
   "cell_type": "code",
   "execution_count": 33,
   "id": "ed7236c2-8a24-4599-bc51-721bc95b925e",
   "metadata": {},
   "outputs": [
    {
     "name": "stdout",
     "output_type": "stream",
     "text": [
      "CUDA is available. Device count: 1\n",
      "Device 0: NVIDIA GeForce RTX 2060\n",
      " - Memory allocated: 0.02 GB\n",
      " - Memory cached: 0.10 GB\n"
     ]
    }
   ],
   "source": [
    "import torch\n",
    "\n",
    "if torch.cuda.is_available():\n",
    "    print(f\"CUDA is available. Device count: {torch.cuda.device_count()}\")\n",
    "    for i in range(torch.cuda.device_count()):\n",
    "        print(f\"Device {i}: {torch.cuda.get_device_name(i)}\")\n",
    "        print(f\" - Memory allocated: {torch.cuda.memory_allocated(i) / 1024**3:.2f} GB\")\n",
    "        print(f\" - Memory cached: {torch.cuda.memory_reserved(i) / 1024**3:.2f} GB\")\n",
    "else:\n",
    "    print(\"CUDA is not available. Using CPU.\")\n"
   ]
  },
  {
   "cell_type": "code",
   "execution_count": 34,
   "id": "1e96528f-6457-4bb3-9396-bad37e9abb31",
   "metadata": {},
   "outputs": [
    {
     "name": "stdout",
     "output_type": "stream",
     "text": [
      "cuda\n"
     ]
    }
   ],
   "source": [
    "# Initialize the model, loss function, and optimizer\n",
    "device = torch.device(\"cuda\" if torch.cuda.is_available() else \"cpu\")\n",
    "print(device)\n",
    "model = CustomCNN().to(device)\n",
    "criterion = nn.CrossEntropyLoss()\n",
    "optimizer = optim.Adam(model.parameters(), lr=0.001)\n"
   ]
  },
  {
   "cell_type": "code",
   "execution_count": 35,
   "id": "3ffa31e9-c670-451e-86d4-296d0ce171bd",
   "metadata": {},
   "outputs": [
    {
     "name": "stdout",
     "output_type": "stream",
     "text": [
      "Epoch 1/15\n"
     ]
    },
    {
     "name": "stderr",
     "output_type": "stream",
     "text": [
      "Training: 100%|██████████| 47/47 [00:11<00:00,  4.01batch/s, loss=1.52]\n",
      "Validation: 100%|██████████| 12/12 [00:02<00:00,  5.31batch/s, loss=1.57]\n"
     ]
    },
    {
     "name": "stdout",
     "output_type": "stream",
     "text": [
      "Epoch 1, Training Loss: 2.0486, Validation Loss: 1.5681\n",
      "Epoch 2/15\n"
     ]
    },
    {
     "name": "stderr",
     "output_type": "stream",
     "text": [
      "Training: 100%|██████████| 47/47 [00:11<00:00,  4.06batch/s, loss=1.38]\n",
      "Validation: 100%|██████████| 12/12 [00:02<00:00,  5.14batch/s, loss=1.23]\n"
     ]
    },
    {
     "name": "stdout",
     "output_type": "stream",
     "text": [
      "Epoch 2, Training Loss: 1.4540, Validation Loss: 1.2222\n",
      "Epoch 3/15\n"
     ]
    },
    {
     "name": "stderr",
     "output_type": "stream",
     "text": [
      "Training: 100%|██████████| 47/47 [00:11<00:00,  4.03batch/s, loss=1.23]\n",
      "Validation: 100%|██████████| 12/12 [00:02<00:00,  5.42batch/s, loss=1.07]\n"
     ]
    },
    {
     "name": "stdout",
     "output_type": "stream",
     "text": [
      "Epoch 3, Training Loss: 1.2966, Validation Loss: 1.0780\n",
      "Epoch 4/15\n"
     ]
    },
    {
     "name": "stderr",
     "output_type": "stream",
     "text": [
      "Training: 100%|██████████| 47/47 [00:11<00:00,  4.05batch/s, loss=1.07]\n",
      "Validation: 100%|██████████| 12/12 [00:02<00:00,  5.32batch/s, loss=0.934]\n"
     ]
    },
    {
     "name": "stdout",
     "output_type": "stream",
     "text": [
      "Epoch 4, Training Loss: 1.1627, Validation Loss: 0.9514\n",
      "Epoch 5/15\n"
     ]
    },
    {
     "name": "stderr",
     "output_type": "stream",
     "text": [
      "Training: 100%|██████████| 47/47 [00:11<00:00,  4.05batch/s, loss=0.992]\n",
      "Validation: 100%|██████████| 12/12 [00:02<00:00,  5.36batch/s, loss=0.823]\n"
     ]
    },
    {
     "name": "stdout",
     "output_type": "stream",
     "text": [
      "Epoch 5, Training Loss: 1.0417, Validation Loss: 0.8443\n",
      "Epoch 6/15\n"
     ]
    },
    {
     "name": "stderr",
     "output_type": "stream",
     "text": [
      "Training: 100%|██████████| 47/47 [00:11<00:00,  4.07batch/s, loss=0.961]\n",
      "Validation: 100%|██████████| 12/12 [00:02<00:00,  5.40batch/s, loss=0.748]\n"
     ]
    },
    {
     "name": "stdout",
     "output_type": "stream",
     "text": [
      "Epoch 6, Training Loss: 0.9469, Validation Loss: 0.7713\n",
      "Epoch 7/15\n"
     ]
    },
    {
     "name": "stderr",
     "output_type": "stream",
     "text": [
      "Training: 100%|██████████| 47/47 [00:11<00:00,  4.01batch/s, loss=0.863]\n",
      "Validation: 100%|██████████| 12/12 [00:02<00:00,  5.45batch/s, loss=0.695]\n"
     ]
    },
    {
     "name": "stdout",
     "output_type": "stream",
     "text": [
      "Epoch 7, Training Loss: 0.8868, Validation Loss: 0.7218\n",
      "Epoch 8/15\n"
     ]
    },
    {
     "name": "stderr",
     "output_type": "stream",
     "text": [
      "Training: 100%|██████████| 47/47 [00:11<00:00,  4.21batch/s, loss=0.797]\n",
      "Validation: 100%|██████████| 12/12 [00:02<00:00,  5.56batch/s, loss=0.654]\n"
     ]
    },
    {
     "name": "stdout",
     "output_type": "stream",
     "text": [
      "Epoch 8, Training Loss: 0.8408, Validation Loss: 0.6857\n",
      "Epoch 9/15\n"
     ]
    },
    {
     "name": "stderr",
     "output_type": "stream",
     "text": [
      "Training: 100%|██████████| 47/47 [00:11<00:00,  4.23batch/s, loss=0.777]\n",
      "Validation: 100%|██████████| 12/12 [00:02<00:00,  5.52batch/s, loss=0.631]\n"
     ]
    },
    {
     "name": "stdout",
     "output_type": "stream",
     "text": [
      "Epoch 9, Training Loss: 0.8114, Validation Loss: 0.6611\n",
      "Epoch 10/15\n"
     ]
    },
    {
     "name": "stderr",
     "output_type": "stream",
     "text": [
      "Training: 100%|██████████| 47/47 [00:11<00:00,  4.22batch/s, loss=0.746]\n",
      "Validation: 100%|██████████| 12/12 [00:02<00:00,  5.56batch/s, loss=0.601]\n"
     ]
    },
    {
     "name": "stdout",
     "output_type": "stream",
     "text": [
      "Epoch 10, Training Loss: 0.7840, Validation Loss: 0.6330\n",
      "Epoch 11/15\n"
     ]
    },
    {
     "name": "stderr",
     "output_type": "stream",
     "text": [
      "Training: 100%|██████████| 47/47 [00:11<00:00,  4.17batch/s, loss=0.759]\n",
      "Validation: 100%|██████████| 12/12 [00:02<00:00,  5.54batch/s, loss=0.586]\n"
     ]
    },
    {
     "name": "stdout",
     "output_type": "stream",
     "text": [
      "Epoch 11, Training Loss: 0.7612, Validation Loss: 0.6174\n",
      "Epoch 12/15\n"
     ]
    },
    {
     "name": "stderr",
     "output_type": "stream",
     "text": [
      "Training: 100%|██████████| 47/47 [00:11<00:00,  4.10batch/s, loss=0.752]\n",
      "Validation: 100%|██████████| 12/12 [00:02<00:00,  5.57batch/s, loss=0.573]\n"
     ]
    },
    {
     "name": "stdout",
     "output_type": "stream",
     "text": [
      "Epoch 12, Training Loss: 0.7441, Validation Loss: 0.6035\n",
      "Epoch 13/15\n"
     ]
    },
    {
     "name": "stderr",
     "output_type": "stream",
     "text": [
      "Training: 100%|██████████| 47/47 [00:11<00:00,  4.20batch/s, loss=0.742]\n",
      "Validation: 100%|██████████| 12/12 [00:02<00:00,  5.53batch/s, loss=0.561]\n"
     ]
    },
    {
     "name": "stdout",
     "output_type": "stream",
     "text": [
      "Epoch 13, Training Loss: 0.7276, Validation Loss: 0.5890\n",
      "Epoch 14/15\n"
     ]
    },
    {
     "name": "stderr",
     "output_type": "stream",
     "text": [
      "Training: 100%|██████████| 47/47 [00:11<00:00,  4.21batch/s, loss=0.662]\n",
      "Validation: 100%|██████████| 12/12 [00:02<00:00,  5.53batch/s, loss=0.556]\n"
     ]
    },
    {
     "name": "stdout",
     "output_type": "stream",
     "text": [
      "Epoch 14, Training Loss: 0.7106, Validation Loss: 0.5781\n",
      "Epoch 15/15\n"
     ]
    },
    {
     "name": "stderr",
     "output_type": "stream",
     "text": [
      "Training: 100%|██████████| 47/47 [00:11<00:00,  4.20batch/s, loss=0.728]\n",
      "Validation: 100%|██████████| 12/12 [00:02<00:00,  5.60batch/s, loss=0.533]"
     ]
    },
    {
     "name": "stdout",
     "output_type": "stream",
     "text": [
      "Epoch 15, Training Loss: 0.6931, Validation Loss: 0.5616\n"
     ]
    },
    {
     "name": "stderr",
     "output_type": "stream",
     "text": [
      "\n"
     ]
    }
   ],
   "source": [
    "from tqdm import tqdm  # Import tqdm for the progress bar\n",
    "\n",
    "# Training and validation loop\n",
    "epochs = 15\n",
    "train_losses = []\n",
    "valid_losses = []\n",
    "\n",
    "for epoch in range(epochs):\n",
    "    print(f\"Epoch {epoch+1}/{epochs}\")\n",
    "    \n",
    "    # Training phase\n",
    "    model.train()\n",
    "    running_loss = 0.0\n",
    "    train_loader_tqdm = tqdm(train_loader, desc=\"Training\", unit=\"batch\")\n",
    "    for images, labels in train_loader_tqdm:\n",
    "        images, labels = images.to(device), labels.to(device)\n",
    "        optimizer.zero_grad()          # Reset gradients\n",
    "        outputs = model(images)       # Forward pass\n",
    "        loss = criterion(outputs, labels)  # Compute loss\n",
    "        loss.backward()               # Backward pass\n",
    "        optimizer.step()              # Update weights\n",
    "        running_loss += loss.item()   # Accumulate loss\n",
    "        train_loader_tqdm.set_postfix(loss=loss.item())  # Update progress bar with current loss\n",
    "\n",
    "    # Calculate average training loss for the epoch\n",
    "    train_loss = running_loss / len(train_loader)\n",
    "    train_losses.append(train_loss)\n",
    "    \n",
    "    # Validation phase\n",
    "    model.eval()\n",
    "    valid_loss = 0.0\n",
    "    val_loader_tqdm = tqdm(val_loader, desc=\"Validation\", unit=\"batch\")  # Use val_loader instead of test_loader\n",
    "    with torch.no_grad():\n",
    "        for images, labels in val_loader_tqdm:\n",
    "            images, labels = images.to(device), labels.to(device)\n",
    "            outputs = model(images)       # Forward pass\n",
    "            loss = criterion(outputs, labels)  # Compute loss\n",
    "            valid_loss += loss.item()     # Accumulate loss\n",
    "            val_loader_tqdm.set_postfix(loss=loss.item())  # Update progress bar with current loss\n",
    "    \n",
    "    # Calculate average validation loss\n",
    "    valid_loss /= len(val_loader)\n",
    "    valid_losses.append(valid_loss)\n",
    "    \n",
    "    print(f\"Epoch {epoch+1}, Training Loss: {train_loss:.4f}, Validation Loss: {valid_loss:.4f}\")\n"
   ]
  },
  {
   "cell_type": "code",
   "execution_count": 36,
   "id": "7e674ac3-ad33-4d8e-a628-1c4a83dd5f9e",
   "metadata": {},
   "outputs": [
    {
     "data": {
      "image/png": "[encoded data removed]",
      "text/plain": [
       "<Figure size 640x480 with 1 Axes>"
      ]
     },
     "metadata": {},
     "output_type": "display_data"
    }
   ],
   "source": [
    "# Plot training and validation loss\n",
    "import matplotlib.pyplot as plt\n",
    "plt.plot(range(1, epochs + 1), train_losses, label='Training Loss')\n",
    "plt.plot(range(1, epochs + 1), valid_losses, label='Validation Loss')\n",
    "plt.xlabel('Epochs')\n",
    "plt.ylabel('Loss')\n",
    "plt.legend()\n",
    "plt.show()\n",
    "\n",
    "# Testing the model and generating confusion matrix and F1 scores\n",
    "model.eval()\n",
    "all_preds = []\n",
    "all_labels = []\n",
    "\n",
    "with torch.no_grad():\n",
    "    for images, labels in test_loader:\n",
    "        images, labels = images.to(device), labels.to(device)\n",
    "        outputs = model(images)\n",
    "        preds = outputs.argmax(dim=1)\n",
    "        all_preds.extend(preds.cpu().numpy())\n",
    "        all_labels.extend(labels.cpu().numpy())\n"
   ]
  },
  {
   "cell_type": "code",
   "execution_count": 37,
   "id": "24c48e8b-ecc3-449c-b6f7-61dc3b504c7a",
   "metadata": {},
   "outputs": [
    {
     "name": "stdout",
     "output_type": "stream",
     "text": [
      "Confusion Matrix:\n",
      " [[802   2  23  90   7   3  60   0  13   0]\n",
      " [  0 950   3  36   2   0   7   0   2   0]\n",
      " [ 11   1 663  12 213   1  97   0   2   0]\n",
      " [ 23  17   4 865  44   1  45   0   1   0]\n",
      " [  0   3  93  50 786   0  64   0   4   0]\n",
      " [  0   0   0   0   0 954   1  27   2  16]\n",
      " [236   0 147  69 197   0 326   0  25   0]\n",
      " [  0   0   0   0   0  29   0 897   1  73]\n",
      " [  0   3   2  12   5   4  12   4 957   1]\n",
      " [  0   0   0   2   0  15   0  38   2 943]]\n",
      "Classification Report:\n",
      "               precision    recall  f1-score   support\n",
      "\n",
      "           0       0.75      0.80      0.77      1000\n",
      "           1       0.97      0.95      0.96      1000\n",
      "           2       0.71      0.66      0.69      1000\n",
      "           3       0.76      0.86      0.81      1000\n",
      "           4       0.63      0.79      0.70      1000\n",
      "           5       0.95      0.95      0.95      1000\n",
      "           6       0.53      0.33      0.40      1000\n",
      "           7       0.93      0.90      0.91      1000\n",
      "           8       0.95      0.96      0.95      1000\n",
      "           9       0.91      0.94      0.93      1000\n",
      "\n",
      "    accuracy                           0.81     10000\n",
      "   macro avg       0.81      0.81      0.81     10000\n",
      "weighted avg       0.81      0.81      0.81     10000\n",
      "\n"
     ]
    },
    {
     "data": {
      "image/png": "[encoded data removed]",
      "text/plain": [
       "<Figure size 1000x700 with 2 Axes>"
      ]
     },
     "metadata": {},
     "output_type": "display_data"
    }
   ],
   "source": [
    "# Generate confusion matrix and F1 scores\n",
    "conf_matrix = confusion_matrix(all_labels, all_preds)\n",
    "print(\"Confusion Matrix:\\n\", conf_matrix)\n",
    "print(\"Classification Report:\\n\", classification_report(all_labels, all_preds))\n",
    "\n",
    "# Plot confusion matrix\n",
    "import seaborn as sns\n",
    "\n",
    "plt.figure(figsize=(10, 7))\n",
    "sns.heatmap(conf_matrix, annot=True, fmt='d', cmap='Blues')\n",
    "plt.title('Confusion Matrix')\n",
    "plt.xlabel('Predicted Labels')\n",
    "plt.ylabel('True Labels')\n",
    "plt.show()"
   ]
  }
 ],
 "metadata": {
  "kernelspec": {
   "display_name": "Python 3",
   "language": "python",
   "name": "python3"
  },
  "language_info": {
   "codemirror_mode": {
    "name": "ipython",
    "version": 3
   },
   "file_extension": ".py",
   "mimetype": "text/x-python",
   "name": "python",
   "nbconvert_exporter": "python",
   "pygments_lexer": "ipython3",
   "version": "3.8.10"
  }
 },
 "nbformat": 4,
 "nbformat_minor": 5
}
